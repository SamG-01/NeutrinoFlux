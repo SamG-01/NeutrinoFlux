{
 "cells": [
  {
   "cell_type": "markdown",
   "metadata": {
    "vscode": {
     "languageId": "bat"
    }
   },
   "source": [
    "# NeutrinoFlux\n",
    "This package predicts the yearly rate of neutrino events in the IceCube Neutrino Observatory at the south pole. For this purpose, this package also includes modules with functions for neutrino cross sections, differential flux from atmospheric and astrophysical sources, and attenuation through the earth.\n",
    "\n",
    "To allow for compatibility with other packages, this package uses classes for `Neutrino`s and `CrossSection`s, whose default attributes and methods can be replaced with other functions as desired.\n",
    "\n",
    "For a full report on the mathematics used in this package, see `NeutrinoFlux.pdf`."
   ]
  },
  {
   "cell_type": "code",
   "execution_count": null,
   "metadata": {},
   "outputs": [],
   "source": [
    "import numpy as np\n",
    "import NeutrinoFlux\n",
    "ureg = NeutrinoFlux.ureg"
   ]
  },
  {
   "cell_type": "markdown",
   "metadata": {},
   "source": [
    "## Basic Usage\n",
    "As a quick example, the function call below computes the yearly rate of electron neutrinos from astrophysical sources, from all zenith angles, for energies between $10^{4}$ and $10^{12}$ GeV."
   ]
  },
  {
   "cell_type": "code",
   "execution_count": 1,
   "metadata": {},
   "outputs": [
    {
     "ename": "NameError",
     "evalue": "name 'NeutrinoFlux' is not defined",
     "output_type": "error",
     "traceback": [
      "\u001b[1;31m---------------------------------------------------------------------------\u001b[0m",
      "\u001b[1;31mNameError\u001b[0m                                 Traceback (most recent call last)",
      "Cell \u001b[1;32mIn[1], line 1\u001b[0m\n\u001b[1;32m----> 1\u001b[0m \u001b[43mNeutrinoFlux\u001b[49m\u001b[38;5;241m.\u001b[39mevent_rate(\n\u001b[0;32m      2\u001b[0m     nu\u001b[38;5;241m=\u001b[39mNeutrinoFlux\u001b[38;5;241m.\u001b[39mnu[\u001b[38;5;124m\"\u001b[39m\u001b[38;5;124mnu_e\u001b[39m\u001b[38;5;124m\"\u001b[39m],\n\u001b[0;32m      3\u001b[0m     flux_type\u001b[38;5;241m=\u001b[39m\u001b[38;5;124m\"\u001b[39m\u001b[38;5;124mastro\u001b[39m\u001b[38;5;124m\"\u001b[39m\n\u001b[0;32m      4\u001b[0m )\n",
      "\u001b[1;31mNameError\u001b[0m: name 'NeutrinoFlux' is not defined"
     ]
    }
   ],
   "source": [
    "NeutrinoFlux.event_rate(\n",
    "    nu=NeutrinoFlux.nu[\"nu_e\"],\n",
    "    flux_type=\"astro\"\n",
    ")"
   ]
  },
  {
   "cell_type": "markdown",
   "metadata": {},
   "source": [
    "If we wanted to compute only the rate of Glashow Resonance events for electron antineutrinos within the same range, but with a spectral index of $\\gamma = 2$ (instead of the default $2.53$) and a normalization of $\\phi_{\\text{astro}} = 1$ (instead of the default $1.66$), I would instead write:"
   ]
  },
  {
   "cell_type": "code",
   "execution_count": 3,
   "metadata": {},
   "outputs": [
    {
     "data": {
      "text/html": [
       "5.745772089556312 1/year"
      ],
      "text/latex": [
       "$5.745772089556312\\ \\frac{1}{\\mathrm{year}}$"
      ],
      "text/plain": [
       "<Quantity(5.745772089556312, '1 / year')>"
      ]
     },
     "execution_count": 3,
     "metadata": {},
     "output_type": "execute_result"
    }
   ],
   "source": [
    "nubar_e = NeutrinoFlux.nu[\"nubar_e\"]\n",
    "NeutrinoFlux.event_rate(\n",
    "    nu=nubar_e,\n",
    "    flux_type=\"astro\",\n",
    "    cross_sections=nubar_e.cross_sections[\"gr\"],\n",
    "    gamma=2,\n",
    "    phi_astro=1\n",
    ")"
   ]
  },
  {
   "cell_type": "markdown",
   "metadata": {},
   "source": [
    "If we instead consider atmospheric tau neutrino flux from pion decay in July with energies only up to $10^{16}$ eV, we would write"
   ]
  },
  {
   "cell_type": "code",
   "execution_count": 5,
   "metadata": {},
   "outputs": [
    {
     "ename": "KeyboardInterrupt",
     "evalue": "",
     "output_type": "error",
     "traceback": [
      "\u001b[1;31m---------------------------------------------------------------------------\u001b[0m",
      "\u001b[1;31mKeyboardInterrupt\u001b[0m                         Traceback (most recent call last)",
      "Cell \u001b[1;32mIn[5], line 1\u001b[0m\n\u001b[1;32m----> 1\u001b[0m \u001b[43mNeutrinoFlux\u001b[49m\u001b[38;5;241;43m.\u001b[39;49m\u001b[43mevent_rate\u001b[49m\u001b[43m(\u001b[49m\n\u001b[0;32m      2\u001b[0m \u001b[43m    \u001b[49m\u001b[43mnu\u001b[49m\u001b[38;5;241;43m=\u001b[39;49m\u001b[43mNeutrinoFlux\u001b[49m\u001b[38;5;241;43m.\u001b[39;49m\u001b[43mnu\u001b[49m\u001b[43m[\u001b[49m\u001b[38;5;124;43m\"\u001b[39;49m\u001b[38;5;124;43mnu_tau\u001b[39;49m\u001b[38;5;124;43m\"\u001b[39;49m\u001b[43m]\u001b[49m\u001b[43m,\u001b[49m\n\u001b[0;32m      3\u001b[0m \u001b[43m    \u001b[49m\u001b[43mflux_type\u001b[49m\u001b[38;5;241;43m=\u001b[39;49m\u001b[38;5;124;43m\"\u001b[39;49m\u001b[38;5;124;43matmo\u001b[39;49m\u001b[38;5;124;43m\"\u001b[39;49m\u001b[43m,\u001b[49m\n\u001b[0;32m      4\u001b[0m \u001b[43m    \u001b[49m\u001b[43mE_bounds\u001b[49m\u001b[38;5;241;43m=\u001b[39;49m\u001b[43m(\u001b[49m\u001b[38;5;241;43m1e13\u001b[39;49m\u001b[43m,\u001b[49m\u001b[43m \u001b[49m\u001b[38;5;241;43m1e16\u001b[39;49m\u001b[43m)\u001b[49m\u001b[43m \u001b[49m\u001b[38;5;241;43m*\u001b[39;49m\u001b[43m \u001b[49m\u001b[43mureg\u001b[49m\u001b[38;5;241;43m.\u001b[39;49m\u001b[43meV\u001b[49m\u001b[43m,\u001b[49m\n\u001b[0;32m      5\u001b[0m \u001b[43m    \u001b[49m\u001b[43mmonth\u001b[49m\u001b[38;5;241;43m=\u001b[39;49m\u001b[38;5;124;43m\"\u001b[39;49m\u001b[38;5;124;43mJuly\u001b[39;49m\u001b[38;5;124;43m\"\u001b[39;49m\u001b[43m,\u001b[49m\n\u001b[0;32m      6\u001b[0m \u001b[43m    \u001b[49m\u001b[43msource\u001b[49m\u001b[38;5;241;43m=\u001b[39;49m\u001b[38;5;124;43m\"\u001b[39;49m\u001b[38;5;124;43mpi\u001b[39;49m\u001b[38;5;124;43m\"\u001b[39;49m\n\u001b[0;32m      7\u001b[0m \u001b[43m)\u001b[49m\u001b[38;5;241m.\u001b[39mto(\u001b[38;5;124m\"\u001b[39m\u001b[38;5;124m1/month\u001b[39m\u001b[38;5;124m\"\u001b[39m)\n",
      "File \u001b[1;32mc:\\Users\\Sam\\Documents\\Code\\neutrinoflux\\NeutrinoFlux\\event_rate.py:47\u001b[0m, in \u001b[0;36mevent_rate\u001b[1;34m(nu, E_bounds, theta_bounds, phi_bounds, flux_type, attenuate, cross_sections, N, **flux_kwargs)\u001b[0m\n\u001b[0;32m     44\u001b[0m theta_ \u001b[38;5;241m=\u001b[39m np\u001b[38;5;241m.\u001b[39mlinspace(\u001b[38;5;241m*\u001b[39mtheta_bounds\u001b[38;5;241m.\u001b[39mto(\u001b[38;5;124m\"\u001b[39m\u001b[38;5;124mrad\u001b[39m\u001b[38;5;124m\"\u001b[39m), N)\n\u001b[0;32m     45\u001b[0m E, theta \u001b[38;5;241m=\u001b[39m np\u001b[38;5;241m.\u001b[39mmeshgrid(E_, theta_, sparse\u001b[38;5;241m=\u001b[39m\u001b[38;5;28;01mTrue\u001b[39;00m)\n\u001b[1;32m---> 47\u001b[0m integrand_ \u001b[38;5;241m=\u001b[39m \u001b[43mintegrand\u001b[49m\u001b[43m(\u001b[49m\u001b[43mnu\u001b[49m\u001b[43m,\u001b[49m\u001b[43m \u001b[49m\u001b[43mE\u001b[49m\u001b[43m,\u001b[49m\u001b[43m \u001b[49m\u001b[43mtheta\u001b[49m\u001b[43m,\u001b[49m\u001b[43m \u001b[49m\u001b[43mflux_type\u001b[49m\u001b[43m,\u001b[49m\u001b[43m \u001b[49m\u001b[43mattenuate\u001b[49m\u001b[43m,\u001b[49m\u001b[43m \u001b[49m\u001b[43mcross_sections\u001b[49m\u001b[43m,\u001b[49m\u001b[43m \u001b[49m\u001b[38;5;241;43m*\u001b[39;49m\u001b[38;5;241;43m*\u001b[39;49m\u001b[43mflux_kwargs\u001b[49m\u001b[43m)\u001b[49m\n\u001b[0;32m     48\u001b[0m integral \u001b[38;5;241m=\u001b[39m np\u001b[38;5;241m.\u001b[39mtrapz(np\u001b[38;5;241m.\u001b[39mtrapz(integrand_ \u001b[38;5;241m*\u001b[39m np\u001b[38;5;241m.\u001b[39msin(theta), theta_, axis\u001b[38;5;241m=\u001b[39m\u001b[38;5;241m0\u001b[39m), E_, axis\u001b[38;5;241m=\u001b[39m\u001b[38;5;241m0\u001b[39m)\n\u001b[0;32m     49\u001b[0m rate \u001b[38;5;241m=\u001b[39m (phi_bounds[\u001b[38;5;241m1\u001b[39m] \u001b[38;5;241m-\u001b[39m phi_bounds[\u001b[38;5;241m0\u001b[39m]) \u001b[38;5;241m*\u001b[39m integral\n",
      "File \u001b[1;32mc:\\Users\\Sam\\Documents\\Code\\neutrinoflux\\NeutrinoFlux\\event_rate.py:22\u001b[0m, in \u001b[0;36mintegrand\u001b[1;34m(nu, E, theta, flux_type, attenuate, cross_sections, **flux_kwargs)\u001b[0m\n\u001b[0;32m     19\u001b[0m \u001b[38;5;28;01melse\u001b[39;00m:\n\u001b[0;32m     20\u001b[0m     crsc_hits \u001b[38;5;241m=\u001b[39m nu\u001b[38;5;241m.\u001b[39mcrsc_hits(E, \u001b[38;5;124m\"\u001b[39m\u001b[38;5;124mice\u001b[39m\u001b[38;5;124m\"\u001b[39m, cross_sections)\n\u001b[1;32m---> 22\u001b[0m Phi \u001b[38;5;241m=\u001b[39m \u001b[43mnu\u001b[49m\u001b[38;5;241;43m.\u001b[39;49m\u001b[43mdiff_flux\u001b[49m\u001b[43m(\u001b[49m\u001b[43mE\u001b[49m\u001b[43m,\u001b[49m\u001b[43m \u001b[49m\u001b[43mtheta\u001b[49m\u001b[43m,\u001b[49m\u001b[43m \u001b[49m\u001b[43mflux_type\u001b[49m\u001b[43m,\u001b[49m\u001b[43m \u001b[49m\u001b[38;5;241;43m*\u001b[39;49m\u001b[38;5;241;43m*\u001b[39;49m\u001b[43mflux_kwargs\u001b[49m\u001b[43m)\u001b[49m\n\u001b[0;32m     23\u001b[0m attenuation \u001b[38;5;241m=\u001b[39m nu\u001b[38;5;241m.\u001b[39mearth_attenuation(E, theta) \u001b[38;5;28;01mif\u001b[39;00m attenuate \u001b[38;5;28;01melse\u001b[39;00m \u001b[38;5;241m1\u001b[39m\n\u001b[0;32m     25\u001b[0m expr \u001b[38;5;241m=\u001b[39m ice_mass \u001b[38;5;241m*\u001b[39m crsc_hits \u001b[38;5;241m*\u001b[39m Phi \u001b[38;5;241m*\u001b[39m attenuation\n",
      "File \u001b[1;32mc:\\Users\\Sam\\Documents\\Code\\neutrinoflux\\NeutrinoFlux\\neutrinos.py:71\u001b[0m, in \u001b[0;36mNeutrino.diff_flux\u001b[1;34m(self, E, theta, flux_type, **kwargs)\u001b[0m\n\u001b[0;32m     67\u001b[0m     \u001b[38;5;28;01mreturn\u001b[39;00m \u001b[38;5;28msum\u001b[39m(flux_func(E, theta, \u001b[38;5;241m*\u001b[39m\u001b[38;5;241m*\u001b[39mkwargs)\n\u001b[0;32m     68\u001b[0m                \u001b[38;5;28;01mfor\u001b[39;00m flux_func \u001b[38;5;129;01min\u001b[39;00m \u001b[38;5;28mself\u001b[39m\u001b[38;5;241m.\u001b[39mflux_funcs\u001b[38;5;241m.\u001b[39mvalues())\n\u001b[0;32m     70\u001b[0m flux_func \u001b[38;5;241m=\u001b[39m \u001b[38;5;28mself\u001b[39m\u001b[38;5;241m.\u001b[39mflux_funcs[flux_type]\n\u001b[1;32m---> 71\u001b[0m \u001b[38;5;28;01mreturn\u001b[39;00m \u001b[43mflux_func\u001b[49m\u001b[43m(\u001b[49m\u001b[43mE\u001b[49m\u001b[43m,\u001b[49m\u001b[43m \u001b[49m\u001b[43mtheta\u001b[49m\u001b[43m,\u001b[49m\u001b[43m \u001b[49m\u001b[38;5;241;43m*\u001b[39;49m\u001b[38;5;241;43m*\u001b[39;49m\u001b[43mkwargs\u001b[49m\u001b[43m)\u001b[49m\n",
      "File \u001b[1;32mc:\\Program Files\\Python312\\Lib\\site-packages\\pint\\registry_helpers.py:293\u001b[0m, in \u001b[0;36mwraps.<locals>.decorator.<locals>.wrapper\u001b[1;34m(*values, **kw)\u001b[0m\n\u001b[0;32m    287\u001b[0m \u001b[38;5;66;03m# In principle, the values are used as is\u001b[39;00m\n\u001b[0;32m    288\u001b[0m \u001b[38;5;66;03m# When then extract the magnitudes when needed.\u001b[39;00m\n\u001b[0;32m    289\u001b[0m new_values, new_kw, values_by_name \u001b[38;5;241m=\u001b[39m converter(\n\u001b[0;32m    290\u001b[0m     ureg, sig, values, kw, strict\n\u001b[0;32m    291\u001b[0m )\n\u001b[1;32m--> 293\u001b[0m result \u001b[38;5;241m=\u001b[39m \u001b[43mfunc\u001b[49m\u001b[43m(\u001b[49m\u001b[38;5;241;43m*\u001b[39;49m\u001b[43mnew_values\u001b[49m\u001b[43m,\u001b[49m\u001b[43m \u001b[49m\u001b[38;5;241;43m*\u001b[39;49m\u001b[38;5;241;43m*\u001b[39;49m\u001b[43mnew_kw\u001b[49m\u001b[43m)\u001b[49m\n\u001b[0;32m    295\u001b[0m \u001b[38;5;28;01mif\u001b[39;00m is_ret_container:\n\u001b[0;32m    296\u001b[0m     out_units \u001b[38;5;241m=\u001b[39m (\n\u001b[0;32m    297\u001b[0m         _replace_units(r, values_by_name) \u001b[38;5;28;01mif\u001b[39;00m is_ref \u001b[38;5;28;01melse\u001b[39;00m r\n\u001b[0;32m    298\u001b[0m         \u001b[38;5;28;01mfor\u001b[39;00m (r, is_ref) \u001b[38;5;129;01min\u001b[39;00m ret\n\u001b[0;32m    299\u001b[0m     )\n",
      "File \u001b[1;32mc:\\Users\\Sam\\Documents\\Code\\neutrinoflux\\NeutrinoFlux\\differential_flux.py:129\u001b[0m, in \u001b[0;36minterpolate\u001b[1;34m(cls, E, theta, nu, source, month, method)\u001b[0m\n\u001b[0;32m    125\u001b[0m theta \u001b[38;5;241m=\u001b[39m theta \u001b[38;5;241m*\u001b[39m np\u001b[38;5;241m.\u001b[39mones_like(E)\n\u001b[0;32m    127\u001b[0m xi \u001b[38;5;241m=\u001b[39m np\u001b[38;5;241m.\u001b[39mstack((\u001b[38;5;241m180\u001b[39m \u001b[38;5;241m-\u001b[39m np\u001b[38;5;241m.\u001b[39mravel(theta), np\u001b[38;5;241m.\u001b[39mravel(E)), axis\u001b[38;5;241m=\u001b[39m\u001b[38;5;241m-\u001b[39m\u001b[38;5;241m1\u001b[39m)\n\u001b[0;32m    128\u001b[0m flux \u001b[38;5;241m=\u001b[39m interpn((\u001b[38;5;28mcls\u001b[39m\u001b[38;5;241m.\u001b[39mtheta_grid\u001b[38;5;241m.\u001b[39mm, \u001b[38;5;28mcls\u001b[39m\u001b[38;5;241m.\u001b[39mE_grid\u001b[38;5;241m.\u001b[39mm),\n\u001b[1;32m--> 129\u001b[0m                flux_data, xi, method\u001b[38;5;241m=\u001b[39mmethod)\n\u001b[0;32m    131\u001b[0m \u001b[38;5;66;03m# if input data is 0D, return the element\u001b[39;00m\n\u001b[0;32m    132\u001b[0m \u001b[38;5;28;01mif\u001b[39;00m flux\u001b[38;5;241m.\u001b[39msize \u001b[38;5;241m==\u001b[39m \u001b[38;5;241m1\u001b[39m:\n",
      "File \u001b[1;32mc:\\Program Files\\Python312\\Lib\\site-packages\\scipy\\interpolate\\_rgi.py:655\u001b[0m, in \u001b[0;36minterpn\u001b[1;34m(points, values, xi, method, bounds_error, fill_value)\u001b[0m\n\u001b[0;32m    651\u001b[0m \u001b[38;5;28;01mif\u001b[39;00m method \u001b[38;5;129;01min\u001b[39;00m [\u001b[38;5;124m\"\u001b[39m\u001b[38;5;124mlinear\u001b[39m\u001b[38;5;124m\"\u001b[39m, \u001b[38;5;124m\"\u001b[39m\u001b[38;5;124mnearest\u001b[39m\u001b[38;5;124m\"\u001b[39m, \u001b[38;5;124m\"\u001b[39m\u001b[38;5;124mslinear\u001b[39m\u001b[38;5;124m\"\u001b[39m, \u001b[38;5;124m\"\u001b[39m\u001b[38;5;124mcubic\u001b[39m\u001b[38;5;124m\"\u001b[39m, \u001b[38;5;124m\"\u001b[39m\u001b[38;5;124mquintic\u001b[39m\u001b[38;5;124m\"\u001b[39m, \u001b[38;5;124m\"\u001b[39m\u001b[38;5;124mpchip\u001b[39m\u001b[38;5;124m\"\u001b[39m]:\n\u001b[0;32m    652\u001b[0m     interp \u001b[38;5;241m=\u001b[39m RegularGridInterpolator(points, values, method\u001b[38;5;241m=\u001b[39mmethod,\n\u001b[0;32m    653\u001b[0m                                      bounds_error\u001b[38;5;241m=\u001b[39mbounds_error,\n\u001b[0;32m    654\u001b[0m                                      fill_value\u001b[38;5;241m=\u001b[39mfill_value)\n\u001b[1;32m--> 655\u001b[0m     \u001b[38;5;28;01mreturn\u001b[39;00m \u001b[43minterp\u001b[49m\u001b[43m(\u001b[49m\u001b[43mxi\u001b[49m\u001b[43m)\u001b[49m\n\u001b[0;32m    656\u001b[0m \u001b[38;5;28;01melif\u001b[39;00m method \u001b[38;5;241m==\u001b[39m \u001b[38;5;124m\"\u001b[39m\u001b[38;5;124msplinef2d\u001b[39m\u001b[38;5;124m\"\u001b[39m:\n\u001b[0;32m    657\u001b[0m     xi_shape \u001b[38;5;241m=\u001b[39m xi\u001b[38;5;241m.\u001b[39mshape\n",
      "File \u001b[1;32mc:\\Program Files\\Python312\\Lib\\site-packages\\scipy\\interpolate\\_rgi.py:354\u001b[0m, in \u001b[0;36mRegularGridInterpolator.__call__\u001b[1;34m(self, xi, method)\u001b[0m\n\u001b[0;32m    352\u001b[0m     \u001b[38;5;28;01mif\u001b[39;00m is_method_changed:\n\u001b[0;32m    353\u001b[0m         \u001b[38;5;28mself\u001b[39m\u001b[38;5;241m.\u001b[39m_validate_grid_dimensions(\u001b[38;5;28mself\u001b[39m\u001b[38;5;241m.\u001b[39mgrid, method)\n\u001b[1;32m--> 354\u001b[0m     result \u001b[38;5;241m=\u001b[39m \u001b[38;5;28;43mself\u001b[39;49m\u001b[38;5;241;43m.\u001b[39;49m\u001b[43m_evaluate_spline\u001b[49m\u001b[43m(\u001b[49m\u001b[43mxi\u001b[49m\u001b[43m,\u001b[49m\u001b[43m \u001b[49m\u001b[43mmethod\u001b[49m\u001b[43m)\u001b[49m\n\u001b[0;32m    356\u001b[0m \u001b[38;5;28;01mif\u001b[39;00m \u001b[38;5;129;01mnot\u001b[39;00m \u001b[38;5;28mself\u001b[39m\u001b[38;5;241m.\u001b[39mbounds_error \u001b[38;5;129;01mand\u001b[39;00m \u001b[38;5;28mself\u001b[39m\u001b[38;5;241m.\u001b[39mfill_value \u001b[38;5;129;01mis\u001b[39;00m \u001b[38;5;129;01mnot\u001b[39;00m \u001b[38;5;28;01mNone\u001b[39;00m:\n\u001b[0;32m    357\u001b[0m     result[out_of_bounds] \u001b[38;5;241m=\u001b[39m \u001b[38;5;28mself\u001b[39m\u001b[38;5;241m.\u001b[39mfill_value\n",
      "File \u001b[1;32mc:\\Program Files\\Python312\\Lib\\site-packages\\scipy\\interpolate\\_rgi.py:483\u001b[0m, in \u001b[0;36mRegularGridInterpolator._evaluate_spline\u001b[1;34m(self, xi, method)\u001b[0m\n\u001b[0;32m    479\u001b[0m     folded_values \u001b[38;5;241m=\u001b[39m first_values[j, \u001b[38;5;241m.\u001b[39m\u001b[38;5;241m.\u001b[39m\u001b[38;5;241m.\u001b[39m]\n\u001b[0;32m    480\u001b[0m     \u001b[38;5;28;01mfor\u001b[39;00m i \u001b[38;5;129;01min\u001b[39;00m \u001b[38;5;28mrange\u001b[39m(last_dim\u001b[38;5;241m-\u001b[39m\u001b[38;5;241m1\u001b[39m, \u001b[38;5;241m-\u001b[39m\u001b[38;5;241m1\u001b[39m, \u001b[38;5;241m-\u001b[39m\u001b[38;5;241m1\u001b[39m):\n\u001b[0;32m    481\u001b[0m         \u001b[38;5;66;03m# Interpolate for each 1D from the last dimensions.\u001b[39;00m\n\u001b[0;32m    482\u001b[0m         \u001b[38;5;66;03m# This collapses each 1D sequence into a scalar.\u001b[39;00m\n\u001b[1;32m--> 483\u001b[0m         folded_values \u001b[38;5;241m=\u001b[39m \u001b[43m_eval_func\u001b[49m\u001b[43m(\u001b[49m\u001b[38;5;28;43mself\u001b[39;49m\u001b[38;5;241;43m.\u001b[39;49m\u001b[43mgrid\u001b[49m\u001b[43m[\u001b[49m\u001b[43mi\u001b[49m\u001b[43m]\u001b[49m\u001b[43m,\u001b[49m\n\u001b[0;32m    484\u001b[0m \u001b[43m                                   \u001b[49m\u001b[43mfolded_values\u001b[49m\u001b[43m,\u001b[49m\n\u001b[0;32m    485\u001b[0m \u001b[43m                                   \u001b[49m\u001b[43mxi\u001b[49m\u001b[43m[\u001b[49m\u001b[43mj\u001b[49m\u001b[43m,\u001b[49m\u001b[43m \u001b[49m\u001b[43mi\u001b[49m\u001b[43m]\u001b[49m\u001b[43m,\u001b[49m\n\u001b[0;32m    486\u001b[0m \u001b[43m                                   \u001b[49m\u001b[43mk\u001b[49m\u001b[43m)\u001b[49m\n\u001b[0;32m    487\u001b[0m     result[j, \u001b[38;5;241m.\u001b[39m\u001b[38;5;241m.\u001b[39m\u001b[38;5;241m.\u001b[39m] \u001b[38;5;241m=\u001b[39m folded_values\n\u001b[0;32m    489\u001b[0m \u001b[38;5;28;01mreturn\u001b[39;00m result\n",
      "File \u001b[1;32mc:\\Program Files\\Python312\\Lib\\site-packages\\scipy\\interpolate\\_rgi.py:493\u001b[0m, in \u001b[0;36mRegularGridInterpolator._do_spline_fit\u001b[1;34m(x, y, pt, k)\u001b[0m\n\u001b[0;32m    491\u001b[0m \u001b[38;5;129m@staticmethod\u001b[39m\n\u001b[0;32m    492\u001b[0m \u001b[38;5;28;01mdef\u001b[39;00m \u001b[38;5;21m_do_spline_fit\u001b[39m(x, y, pt, k):\n\u001b[1;32m--> 493\u001b[0m     local_interp \u001b[38;5;241m=\u001b[39m \u001b[43mmake_interp_spline\u001b[49m\u001b[43m(\u001b[49m\u001b[43mx\u001b[49m\u001b[43m,\u001b[49m\u001b[43m \u001b[49m\u001b[43my\u001b[49m\u001b[43m,\u001b[49m\u001b[43m \u001b[49m\u001b[43mk\u001b[49m\u001b[38;5;241;43m=\u001b[39;49m\u001b[43mk\u001b[49m\u001b[43m,\u001b[49m\u001b[43m \u001b[49m\u001b[43maxis\u001b[49m\u001b[38;5;241;43m=\u001b[39;49m\u001b[38;5;241;43m0\u001b[39;49m\u001b[43m)\u001b[49m\n\u001b[0;32m    494\u001b[0m     values \u001b[38;5;241m=\u001b[39m local_interp(pt)\n\u001b[0;32m    495\u001b[0m     \u001b[38;5;28;01mreturn\u001b[39;00m values\n",
      "File \u001b[1;32mc:\\Program Files\\Python312\\Lib\\site-packages\\scipy\\interpolate\\_bsplines.py:1339\u001b[0m, in \u001b[0;36mmake_interp_spline\u001b[1;34m(x, y, k, t, bc_type, axis, check_finite)\u001b[0m\n\u001b[0;32m   1335\u001b[0m         t \u001b[38;5;241m=\u001b[39m np\u001b[38;5;241m.\u001b[39mr_[(x[\u001b[38;5;241m0\u001b[39m],)\u001b[38;5;241m*\u001b[39m(k\u001b[38;5;241m+\u001b[39m\u001b[38;5;241m1\u001b[39m),\n\u001b[0;32m   1336\u001b[0m                   t[\u001b[38;5;241m1\u001b[39m:\u001b[38;5;241m-\u001b[39m\u001b[38;5;241m1\u001b[39m],\n\u001b[0;32m   1337\u001b[0m                   (x[\u001b[38;5;241m-\u001b[39m\u001b[38;5;241m1\u001b[39m],)\u001b[38;5;241m*\u001b[39m(k\u001b[38;5;241m+\u001b[39m\u001b[38;5;241m1\u001b[39m)]\n\u001b[0;32m   1338\u001b[0m     \u001b[38;5;28;01melse\u001b[39;00m:\n\u001b[1;32m-> 1339\u001b[0m         t \u001b[38;5;241m=\u001b[39m \u001b[43m_not_a_knot\u001b[49m\u001b[43m(\u001b[49m\u001b[43mx\u001b[49m\u001b[43m,\u001b[49m\u001b[43m \u001b[49m\u001b[43mk\u001b[49m\u001b[43m)\u001b[49m\n\u001b[0;32m   1340\u001b[0m \u001b[38;5;28;01melse\u001b[39;00m:\n\u001b[0;32m   1341\u001b[0m     t \u001b[38;5;241m=\u001b[39m _augknt(x, k)\n",
      "File \u001b[1;32mc:\\Program Files\\Python312\\Lib\\site-packages\\scipy\\interpolate\\_bsplines.py:847\u001b[0m, in \u001b[0;36m_not_a_knot\u001b[1;34m(x, k)\u001b[0m\n\u001b[0;32m    845\u001b[0m m \u001b[38;5;241m=\u001b[39m (k \u001b[38;5;241m-\u001b[39m \u001b[38;5;241m1\u001b[39m) \u001b[38;5;241m/\u001b[39m\u001b[38;5;241m/\u001b[39m \u001b[38;5;241m2\u001b[39m\n\u001b[0;32m    846\u001b[0m t \u001b[38;5;241m=\u001b[39m x[m\u001b[38;5;241m+\u001b[39m\u001b[38;5;241m1\u001b[39m:\u001b[38;5;241m-\u001b[39mm\u001b[38;5;241m-\u001b[39m\u001b[38;5;241m1\u001b[39m]\n\u001b[1;32m--> 847\u001b[0m t \u001b[38;5;241m=\u001b[39m \u001b[43mnp\u001b[49m\u001b[38;5;241;43m.\u001b[39;49m\u001b[43mr_\u001b[49m\u001b[43m[\u001b[49m\u001b[43m(\u001b[49m\u001b[43mx\u001b[49m\u001b[43m[\u001b[49m\u001b[38;5;241;43m0\u001b[39;49m\u001b[43m]\u001b[49m\u001b[43m,\u001b[49m\u001b[43m)\u001b[49m\u001b[38;5;241;43m*\u001b[39;49m\u001b[43m(\u001b[49m\u001b[43mk\u001b[49m\u001b[38;5;241;43m+\u001b[39;49m\u001b[38;5;241;43m1\u001b[39;49m\u001b[43m)\u001b[49m\u001b[43m,\u001b[49m\u001b[43m \u001b[49m\u001b[43mt\u001b[49m\u001b[43m,\u001b[49m\u001b[43m \u001b[49m\u001b[43m(\u001b[49m\u001b[43mx\u001b[49m\u001b[43m[\u001b[49m\u001b[38;5;241;43m-\u001b[39;49m\u001b[38;5;241;43m1\u001b[39;49m\u001b[43m]\u001b[49m\u001b[43m,\u001b[49m\u001b[43m)\u001b[49m\u001b[38;5;241;43m*\u001b[39;49m\u001b[43m(\u001b[49m\u001b[43mk\u001b[49m\u001b[38;5;241;43m+\u001b[39;49m\u001b[38;5;241;43m1\u001b[39;49m\u001b[43m)\u001b[49m\u001b[43m]\u001b[49m\n\u001b[0;32m    848\u001b[0m \u001b[38;5;28;01mreturn\u001b[39;00m t\n",
      "File \u001b[1;32mc:\\Program Files\\Python312\\Lib\\site-packages\\numpy\\lib\\index_tricks.py:418\u001b[0m, in \u001b[0;36mAxisConcatenator.__getitem__\u001b[1;34m(self, key)\u001b[0m\n\u001b[0;32m    414\u001b[0m     \u001b[38;5;66;03m# concatenate could do cast, but that can be overriden:\u001b[39;00m\n\u001b[0;32m    415\u001b[0m     objs \u001b[38;5;241m=\u001b[39m [array(obj, copy\u001b[38;5;241m=\u001b[39m\u001b[38;5;28;01mFalse\u001b[39;00m, subok\u001b[38;5;241m=\u001b[39m\u001b[38;5;28;01mTrue\u001b[39;00m,\n\u001b[0;32m    416\u001b[0m                   ndmin\u001b[38;5;241m=\u001b[39mndmin, dtype\u001b[38;5;241m=\u001b[39mfinal_dtype) \u001b[38;5;28;01mfor\u001b[39;00m obj \u001b[38;5;129;01min\u001b[39;00m objs]\n\u001b[1;32m--> 418\u001b[0m res \u001b[38;5;241m=\u001b[39m \u001b[38;5;28;43mself\u001b[39;49m\u001b[38;5;241;43m.\u001b[39;49m\u001b[43mconcatenate\u001b[49m\u001b[43m(\u001b[49m\u001b[38;5;28;43mtuple\u001b[39;49m\u001b[43m(\u001b[49m\u001b[43mobjs\u001b[49m\u001b[43m)\u001b[49m\u001b[43m,\u001b[49m\u001b[43m \u001b[49m\u001b[43maxis\u001b[49m\u001b[38;5;241;43m=\u001b[39;49m\u001b[43maxis\u001b[49m\u001b[43m)\u001b[49m\n\u001b[0;32m    420\u001b[0m \u001b[38;5;28;01mif\u001b[39;00m matrix:\n\u001b[0;32m    421\u001b[0m     oldndim \u001b[38;5;241m=\u001b[39m res\u001b[38;5;241m.\u001b[39mndim\n",
      "\u001b[1;31mKeyboardInterrupt\u001b[0m: "
     ]
    }
   ],
   "source": [
    "NeutrinoFlux.event_rate(\n",
    "    nu=NeutrinoFlux.nu[\"nu_tau\"],\n",
    "    flux_type=\"atmo\",\n",
    "    E_bounds=(1e13, 1e16) * ureg.eV,\n",
    "    month=\"July\",\n",
    "    source=\"pi\"\n",
    ").to(\"1/month\")"
   ]
  }
 ],
 "metadata": {
  "kernelspec": {
   "display_name": "Python 3",
   "language": "python",
   "name": "python3"
  },
  "language_info": {
   "codemirror_mode": {
    "name": "ipython",
    "version": 3
   },
   "file_extension": ".py",
   "mimetype": "text/x-python",
   "name": "python",
   "nbconvert_exporter": "python",
   "pygments_lexer": "ipython3",
   "version": "3.12.2"
  }
 },
 "nbformat": 4,
 "nbformat_minor": 2
}
