{
 "cells": [
  {
   "cell_type": "code",
   "execution_count": 1,
   "metadata": {},
   "outputs": [
    {
     "name": "stdout",
     "output_type": "stream",
     "text": [
      "MCEqRun::set_interaction_model(): SIBYLL23C\n",
      "ParticleManager::_init_default_tracking(): Initializing default tracking categories (pi, K, mu)\n",
      "MCEqRun::set_density_model(): Setting density profile to MSIS00_IC ('SouthPole', 'January')\n",
      "MSIS00IceCubeCentered::set_theta(): latitude = -90.00 for zenith angle =  0.00\n",
      "MCEqRun::set_primary_model(): HillasGaisser2012 H3a\n"
     ]
    }
   ],
   "source": [
    "import neutrinoflux\n",
    "ureg = neutrinoflux.ureg"
   ]
  },
  {
   "cell_type": "markdown",
   "metadata": {},
   "source": [
    "## Usage\n",
    "As a quick example, the function call below computes the yearly rate of electron neutrinos from astrophysical sources, from all zenith angles, for energies between $10^{4}$ and $10^{12}$ GeV."
   ]
  },
  {
   "cell_type": "code",
   "execution_count": 2,
   "metadata": {},
   "outputs": [
    {
     "data": {
      "text/html": [
       "118.55463374803169 1/year"
      ],
      "text/latex": [
       "$118.55463374803169\\ \\frac{1}{\\mathrm{year}}$"
      ],
      "text/plain": [
       "<Quantity(118.55463374803169, '1 / year')>"
      ]
     },
     "execution_count": 2,
     "metadata": {},
     "output_type": "execute_result"
    }
   ],
   "source": [
    "neutrinoflux.event_rate(\n",
    "    nu=neutrinoflux.nu[\"nu_e\"],\n",
    "    flux_type=\"astro\"\n",
    ")"
   ]
  },
  {
   "cell_type": "markdown",
   "metadata": {},
   "source": [
    "If we wanted to compute only the rate of Glashow Resonance events for electron antineutrinos within the same range, but with a spectral index of $\\gamma = 2$ (instead of the default $2.53$) and a normalization of $\\phi_{\\text{astro}} = 1$ (instead of the default $1.66$), I would instead write:"
   ]
  },
  {
   "cell_type": "code",
   "execution_count": 3,
   "metadata": {},
   "outputs": [
    {
     "data": {
      "text/html": [
       "5.745772089556312 1/year"
      ],
      "text/latex": [
       "$5.745772089556312\\ \\frac{1}{\\mathrm{year}}$"
      ],
      "text/plain": [
       "<Quantity(5.745772089556312, '1 / year')>"
      ]
     },
     "execution_count": 3,
     "metadata": {},
     "output_type": "execute_result"
    }
   ],
   "source": [
    "nubar_e = neutrinoflux.nu[\"nubar_e\"]\n",
    "neutrinoflux.event_rate(\n",
    "    nu=nubar_e,\n",
    "    flux_type=\"astro\",\n",
    "    cross_sections=nubar_e.cross_sections[\"gr\"],\n",
    "    gamma=2,\n",
    "    phi_astro=1\n",
    ")"
   ]
  },
  {
   "cell_type": "markdown",
   "metadata": {},
   "source": [
    "If we instead consider atmospheric mu neutrino flux from pion decay in July with energies only up to $10^{16}$ eV, we would write"
   ]
  },
  {
   "cell_type": "code",
   "execution_count": 4,
   "metadata": {},
   "outputs": [
    {
     "data": {
      "text/html": [
       "7.314061187019767 1/month"
      ],
      "text/latex": [
       "$7.314061187019767\\ \\frac{1}{\\mathrm{month}}$"
      ],
      "text/plain": [
       "<Quantity(7.314061187019767, '1 / month')>"
      ]
     },
     "execution_count": 4,
     "metadata": {},
     "output_type": "execute_result"
    }
   ],
   "source": [
    "neutrinoflux.event_rate(\n",
    "    nu=neutrinoflux.nu[\"nu_mu\"],\n",
    "    flux_type=\"atmo\",\n",
    "    E_bounds=(1e13, 1e16) * ureg.eV,\n",
    "    month=\"July\",\n",
    "    source=\"pi\",\n",
    "    N = 500\n",
    ").to(\"1/month\")"
   ]
  },
  {
   "cell_type": "markdown",
   "metadata": {},
   "source": [
    "## Compatibility\n",
    "While this package provides a set of models by default, other models can be incorporated by modifying a `CrossSection` or `Neutrino` object's attributes.\n",
    "\n",
    "For example, the [`nuFATE`](https://github.com/aaronvincent/nuFATE) can be used to compute the attenuation of initial flux for a given flavor, including $\\nu_{\\tau}$ regeneration effects. To use this alongside `neutrinoflux`, all it would take is taking a `Neutrino`-class object and replacing its default `attenuation` method with one that uses the `nuFATE` attenuation model. This custom `Neutrino` can then be passed into the `event_rate` function as normal."
   ]
  }
 ],
 "metadata": {
  "kernelspec": {
   "display_name": "Python 3",
   "language": "python",
   "name": "python3"
  },
  "language_info": {
   "codemirror_mode": {
    "name": "ipython",
    "version": 3
   },
   "file_extension": ".py",
   "mimetype": "text/x-python",
   "name": "python",
   "nbconvert_exporter": "python",
   "pygments_lexer": "ipython3",
   "version": "3.12.2"
  }
 },
 "nbformat": 4,
 "nbformat_minor": 2
}
